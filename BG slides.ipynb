{
 "cells": [
  {
   "cell_type": "markdown",
   "metadata": {
    "cell_style": "split",
    "slideshow": {
     "slide_type": "slide"
    }
   },
   "source": [
    "![loc](img/bg_logo.svg)"
   ]
  },
  {
   "cell_type": "markdown",
   "metadata": {
    "slideshow": {
     "slide_type": "-"
    }
   },
   "source": [
    "### a Python ecosystem for computational (neuro)anatomy\n",
    "\n",
    "_Federico Claudi; Luigi Petrucco; Adam L. Tyson_"
   ]
  },
  {
   "cell_type": "markdown",
   "metadata": {
    "slideshow": {
     "slide_type": "slide"
    }
   },
   "source": [
    "## Toward whole-brain neuroscience\n",
    "\n",
    " - increasing number of large scale, whole-brain datasets\n",
    " - coordinate spaces are required to map multiple data types on the same space (gene expression, connectomics data, electrophysiology probes)"
   ]
  },
  {
   "cell_type": "markdown",
   "metadata": {
    "slideshow": {
     "slide_type": "slide"
    }
   },
   "source": [
    "New software tools are being developed to work with these increasingly large datasets"
   ]
  },
  {
   "cell_type": "markdown",
   "metadata": {
    "slideshow": {
     "slide_type": "subslide"
    }
   },
   "source": [
    "## brainrender (Federico Claudi @ SWC)"
   ]
  },
  {
   "cell_type": "markdown",
   "metadata": {
    "cell_style": "split",
    "slideshow": {
     "slide_type": "-"
    }
   },
   "source": [
    "- 3D rendering of neuroscientific datasets in Python"
   ]
  },
  {
   "cell_type": "markdown",
   "metadata": {
    "cell_style": "split"
   },
   "source": [
    "<sub>Gene Expression</sub>\n",
    "<p style=\"text-align:right;\">\n",
    "<img src=\"img/gene_expression.png\" alt=\"drawing\" width=\"300\"/>\n",
    "<p/>"
   ]
  },
  {
   "cell_type": "markdown",
   "metadata": {
    "cell_style": "split"
   },
   "source": [
    "<sub>Electrophysiology probe tracing</sub>\n",
    "<img src=\"img/probes.png\" alt=\"drawing\" width=\"300\"/>\n",
    "\n"
   ]
  },
  {
   "cell_type": "markdown",
   "metadata": {
    "cell_style": "split"
   },
   "source": [
    "<sub>Connectivity</sub>\n",
    "<img src=\"img/streamlines.png\" alt=\"drawing\" width=\"300\"/>\n",
    "\n"
   ]
  },
  {
   "cell_type": "markdown",
   "metadata": {
    "slideshow": {
     "slide_type": "subslide"
    }
   },
   "source": [
    "...but they are (were) mostly based on the mouse Allen Brain Atlas!"
   ]
  },
  {
   "cell_type": "markdown",
   "metadata": {
    "slideshow": {
     "slide_type": "subslide"
    }
   },
   "source": [
    "<img src=\"img/fede_tw.jpg\" alt=\"drawing\" width=\"700\" align=\"center\"/>\n"
   ]
  },
  {
   "cell_type": "markdown",
   "metadata": {
    "slideshow": {
     "slide_type": "slide"
    }
   },
   "source": [
    "## Existing atlases\n",
    "\n",
    "\n",
    "More and more atlases and coordinate systems are appearing for different animal models\n",
    "\n",
    "- Mouse\n",
    "- Zebrafish\n",
    "- Drosophila\n",
    "- Rat\n",
    "- Marmoset\n",
    "- ..."
   ]
  },
  {
   "cell_type": "markdown",
   "metadata": {
    "slideshow": {
     "slide_type": "subslide"
    }
   },
   "source": [
    "\n",
    " - existing atlas APIs limitations: \n",
    "     - **web-only** (e.g.: zebrafish¹; Yongsoo Kim Lab Enhanced Atlas²);\n",
    "     - **very large**, serving together both atlas and project-specific data (e.g.: `AllenSDK`)\n",
    " \n",
    "<br/><br/>\n",
    "\n",
    "¹ <sub>Kunst et al, 2019, Cellular-resolution atlas of the larval zebrafish brain</sub>\n",
    "\n",
    "² <sub>Chon et al, 2019, Enhanced and unified anatomical labeling for a common mouse brain atlas</sub>"
   ]
  },
  {
   "cell_type": "markdown",
   "metadata": {
    "slideshow": {
     "slide_type": "subslide"
    }
   },
   "source": [
    " Therefore:\n",
    " - analysis pipelines require complicated remote data fetching\n",
    " - it is not easy to implement atlas-agnostic software"
   ]
  },
  {
   "cell_type": "markdown",
   "metadata": {
    "slideshow": {
     "slide_type": "subslide"
    }
   },
   "source": [
    "in R the `natverse` package provides a solution...\n",
    "\n",
    "![loc](img/natverse.png)"
   ]
  },
  {
   "cell_type": "markdown",
   "metadata": {
    "slideshow": {
     "slide_type": "subslide"
    }
   },
   "source": [
    "...but in Python?"
   ]
  },
  {
   "cell_type": "markdown",
   "metadata": {
    "slideshow": {
     "slide_type": "slide"
    }
   },
   "source": [
    "## Our solution:   `bg_atlasapi` \n",
    "\n",
    "A lightweight module to use reference spaces in your Python packages and analysis scripts.\n",
    "\n",
    "![banner](img/three_atlases.png)"
   ]
  },
  {
   "cell_type": "markdown",
   "metadata": {
    "slideshow": {
     "slide_type": "subslide"
    }
   },
   "source": [
    "#### Distribution of atlases through `bg_atlasapi` "
   ]
  },
  {
   "cell_type": "markdown",
   "metadata": {},
   "source": [
    "![banner](img/bg_atlasapi_schema.pdf)"
   ]
  },
  {
   "cell_type": "markdown",
   "metadata": {
    "slideshow": {
     "slide_type": "subslide"
    }
   },
   "source": [
    "### Installation:\n",
    "\n",
    "```pip install bg-atlasapi```"
   ]
  },
  {
   "cell_type": "markdown",
   "metadata": {
    "slideshow": {
     "slide_type": "subslide"
    }
   },
   "source": [
    "### Usage:"
   ]
  },
  {
   "cell_type": "code",
   "execution_count": 70,
   "metadata": {},
   "outputs": [],
   "source": [
    "from bg_atlasapi import show_atlases"
   ]
  },
  {
   "cell_type": "code",
   "execution_count": null,
   "metadata": {},
   "outputs": [],
   "source": [
    "show_atlases()"
   ]
  },
  {
   "cell_type": "code",
   "execution_count": null,
   "metadata": {
    "slideshow": {
     "slide_type": "subslide"
    }
   },
   "outputs": [],
   "source": [
    "from bg_atlasapi import BrainGlobeAtlas\n",
    "\n",
    "bg_atlas = BrainGlobeAtlas(\"example_mouse_100um\")"
   ]
  },
  {
   "cell_type": "markdown",
   "metadata": {
    "slideshow": {
     "slide_type": "slide"
    }
   },
   "source": [
    "A `BrainGlobeAtlas` object contains:\n",
    "\n",
    " * **atlas description**:\n",
    "     * metadata\n",
    "     * brain structures hierarchy\n",
    " * **stacks**:\n",
    "     * reference anatomical stack\n",
    "     * region annotation stack\n",
    "     * hemisphere annotation stack\n",
    " * **structures meshes**"
   ]
  },
  {
   "cell_type": "markdown",
   "metadata": {
    "slideshow": {
     "slide_type": "slide"
    }
   },
   "source": [
    "### Metadata"
   ]
  },
  {
   "cell_type": "code",
   "execution_count": null,
   "metadata": {
    "slideshow": {
     "slide_type": "-"
    }
   },
   "outputs": [],
   "source": [
    "bg_atlas = BrainGlobeAtlas(\"allen_mouse_100um\")\n",
    "print(bg_atlas)"
   ]
  },
  {
   "cell_type": "markdown",
   "metadata": {
    "slideshow": {
     "slide_type": "slide"
    }
   },
   "source": [
    "### Regions hierarchy"
   ]
  },
  {
   "cell_type": "code",
   "execution_count": null,
   "metadata": {},
   "outputs": [],
   "source": [
    "bg_atlas.structures"
   ]
  },
  {
   "cell_type": "markdown",
   "metadata": {
    "slideshow": {
     "slide_type": "subslide"
    }
   },
   "source": [
    "### Atlas stacks"
   ]
  },
  {
   "cell_type": "code",
   "execution_count": 76,
   "metadata": {},
   "outputs": [],
   "source": [
    "reference_stack = bg_atlas.reference  # reference stack\n",
    "annotation_stack = bg_atlas.annotation  # regions annotation stack\n"
   ]
  },
  {
   "cell_type": "code",
   "execution_count": null,
   "metadata": {
    "cell_style": "split",
    "slideshow": {
     "slide_type": "subslide"
    }
   },
   "outputs": [],
   "source": [
    "from matplotlib import pyplot as plt\n",
    "\n",
    "plt.figure()\n",
    "plt.imshow(reference_stack[60, :, :], \n",
    "           cmap=\"gray\")"
   ]
  },
  {
   "cell_type": "code",
   "execution_count": null,
   "metadata": {
    "cell_style": "split",
    "slideshow": {
     "slide_type": "-"
    }
   },
   "outputs": [],
   "source": [
    "plt.figure()\n",
    "plt.imshow(annotation_stack[60, :, :].astype(\n",
    "    np.uint8))"
   ]
  },
  {
   "cell_type": "code",
   "execution_count": null,
   "metadata": {
    "slideshow": {
     "slide_type": "subslide"
    }
   },
   "outputs": [],
   "source": [
    "bg_atlas.structure_from_coords([60, 50, 30], as_acronym=True)"
   ]
  },
  {
   "cell_type": "markdown",
   "metadata": {
    "slideshow": {
     "slide_type": "subslide"
    }
   },
   "source": [
    "### Regions masks"
   ]
  },
  {
   "cell_type": "code",
   "execution_count": 80,
   "metadata": {
    "slideshow": {
     "slide_type": "-"
    }
   },
   "outputs": [],
   "source": [
    "# Get numpy stack with the mask for a region:\n",
    "mask_stack = bg_atlas.get_structure_mask(\"Isocortex\")"
   ]
  },
  {
   "cell_type": "code",
   "execution_count": null,
   "metadata": {
    "slideshow": {
     "slide_type": "subslide"
    }
   },
   "outputs": [],
   "source": [
    "plt.figure()\n",
    "plt.imshow(mask_stack[60, :, :], cmap=\"gray\")"
   ]
  },
  {
   "cell_type": "markdown",
   "metadata": {
    "slideshow": {
     "slide_type": "subslide"
    }
   },
   "source": [
    "### Regions meshes"
   ]
  },
  {
   "cell_type": "code",
   "execution_count": null,
   "metadata": {},
   "outputs": [],
   "source": [
    "from trimesh import load\n",
    "mesh = load(bg_atlas.meshfile_from_structure(\"Isocortex\"))\n",
    "mesh.show()"
   ]
  },
  {
   "cell_type": "markdown",
   "metadata": {
    "slideshow": {
     "slide_type": "slide"
    }
   },
   "source": [
    "## `bg-atlasapi` in action..."
   ]
  },
  {
   "cell_type": "markdown",
   "metadata": {
    "cell_style": "center",
    "slideshow": {
     "slide_type": "subslide"
    }
   },
   "source": [
    "Using `bg-atlasapi` now brainrender can render visualizations for different species!"
   ]
  },
  {
   "cell_type": "markdown",
   "metadata": {
    "cell_style": "split"
   },
   "source": [
    "<p style=\"text-align:center;\">\n",
    "<img src=\"img/zfish.mp4\" alt=\"drawing\" width=\"800\"/>"
   ]
  },
  {
   "cell_type": "markdown",
   "metadata": {
    "cell_style": "split"
   },
   "source": [
    "<img src=\"img/mouse.mp4\" alt=\"drawing\" width=\"800\"/>\n",
    "</p>"
   ]
  },
  {
   "cell_type": "markdown",
   "metadata": {
    "cell_style": "center",
    "slideshow": {
     "slide_type": "subslide"
    }
   },
   "source": [
    "## cellfinder (Adam Tyson @ SWC) \n"
   ]
  },
  {
   "cell_type": "markdown",
   "metadata": {
    "cell_style": "split"
   },
   "source": [
    "- Neural-network based detection of cells in whole-brain datasets\n",
    "\n"
   ]
  },
  {
   "cell_type": "markdown",
   "metadata": {
    "cell_style": "split"
   },
   "source": [
    "\n",
    "<p style=\"text-align:right;\">\n",
    "<img src=\"img/cellfinder.png\" alt=\"drawing\" width=\"600\"/>\n",
    "<p/>"
   ]
  },
  {
   "cell_type": "markdown",
   "metadata": {
    "slideshow": {
     "slide_type": "subslide"
    }
   },
   "source": [
    "Through `bg-atlasapi`, cellfinder users can compare results in different annotations"
   ]
  },
  {
   "cell_type": "markdown",
   "metadata": {
    "cell_style": "split",
    "slideshow": {
     "slide_type": "-"
    }
   },
   "source": [
    "Allen CFFv3\n",
    "\n",
    "<p style=\"text-align:right;\">\n",
    "<img src=\"img/allen.png\" alt=\"drawing\" width=\"500\"/>\n",
    "<p/>"
   ]
  },
  {
   "cell_type": "markdown",
   "metadata": {
    "cell_style": "split"
   },
   "source": [
    "Kim Enhanced Atlas\n",
    "\n",
    "<p style=\"text-align:right;\">\n",
    "<img src=\"img/kim.png\" alt=\"drawing\" width=\"500\"/>\n",
    "<p/>"
   ]
  },
  {
   "cell_type": "markdown",
   "metadata": {
    "slideshow": {
     "slide_type": "slide"
    }
   },
   "source": [
    "<p style=\"text-align:right;\">\n",
    "<img src=\"img/brainglobeco.pdf\" alt=\"drawing\" width=\"1200\"/>\n",
    "<p/>"
   ]
  },
  {
   "cell_type": "markdown",
   "metadata": {
    "cell_style": "center",
    "slideshow": {
     "slide_type": "slide"
    }
   },
   "source": [
    "## Outlook\n",
    "\n",
    "- `bg-atlasapi v1.0` freshly out\n",
    "- we are looking for \n",
    "    - users feedback!\n",
    "    - new atlases to support and distribute\n",
    "    - integration with other software"
   ]
  },
  {
   "cell_type": "markdown",
   "metadata": {
    "slideshow": {
     "slide_type": "slide"
    }
   },
   "source": [
    "## Thanks to:\n",
    "Old and new contributors to `bg-atlasapi`...\n",
    " - Federico Claudi (SWC)\n",
    " - Adam Tyson (SWC)\n",
    " - Nicholas Del Grosso\n",
    " \n",
    " Placeholder for institute logos"
   ]
  },
  {
   "cell_type": "markdown",
   "metadata": {
    "slideshow": {
     "slide_type": "subslide"
    }
   },
   "source": [
    "## ...and you for your attention! 🙏"
   ]
  },
  {
   "cell_type": "code",
   "execution_count": null,
   "metadata": {
    "slideshow": {
     "slide_type": "slide"
    }
   },
   "outputs": [],
   "source": []
  },
  {
   "cell_type": "code",
   "execution_count": null,
   "metadata": {},
   "outputs": [],
   "source": []
  },
  {
   "cell_type": "code",
   "execution_count": null,
   "metadata": {},
   "outputs": [],
   "source": []
  },
  {
   "cell_type": "code",
   "execution_count": null,
   "metadata": {},
   "outputs": [],
   "source": []
  },
  {
   "cell_type": "code",
   "execution_count": 9,
   "metadata": {},
   "outputs": [],
   "source": [
    "import numpy as np®"
   ]
  },
  {
   "cell_type": "code",
   "execution_count": null,
   "metadata": {},
   "outputs": [],
   "source": []
  }
 ],
 "metadata": {
  "celltoolbar": "Slideshow",
  "kernelspec": {
   "display_name": "rplab",
   "language": "python",
   "name": "rplab"
  },
  "language_info": {
   "codemirror_mode": {
    "name": "ipython",
    "version": 3
   },
   "file_extension": ".py",
   "mimetype": "text/x-python",
   "name": "python",
   "nbconvert_exporter": "python",
   "pygments_lexer": "ipython3",
   "version": "3.8.3"
  },
  "rise": {
   "theme": "serif"
  }
 },
 "nbformat": 4,
 "nbformat_minor": 4
}
